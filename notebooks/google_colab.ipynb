{
 "cells": [
  {
   "cell_type": "code",
   "execution_count": null,
   "id": "e2f3e9ba",
   "metadata": {},
   "outputs": [],
   "source": [
    "# Before running this notebook, select Runtime version 2025.07 in order to get Python 3.11, 3.12 is not supported and likely is not going to be supported for a long time.\n",
    "# Must be 3.11:\n",
    "!python --version"
   ]
  },
  {
   "cell_type": "code",
   "execution_count": null,
   "id": "Omt6xz6ljwIR",
   "metadata": {
    "colab": {
     "base_uri": "https://localhost:8080/"
    },
    "id": "Omt6xz6ljwIR",
    "outputId": "89fb352e-84a8-4d3e-b0dc-28ee9d9a3e6e"
   },
   "outputs": [],
   "source": [
    "!git clone https://github.com/rsxdalv/tts-webui\n",
    "\n",
    "import os\n",
    "os.chdir(\"./tts-webui\")\n",
    "\n",
    "!pip install torch==2.6.0 torchvision torchaudio xformers==0.0.29.post3 --extra-index-url https://download.pytorch.org/whl/cu124 -r requirements.txt hydra-core==1.3.2 nvidia-ml-py\n",
    "\n",
    "# Adapted from Dockerfile\n",
    "# Install python dependencies\n",
    "!pip install uv\n",
    "!uv pip install --no-progress --system -r requirements.txt\n",
    "!uv pip install --no-progress --system git+https://github.com/rsxdalv/extension_bark_voice_clone@main\n",
    "!uv pip install --no-progress --system git+https://github.com/rsxdalv/extension_rvc@main\n",
    "!uv pip install --no-progress --system git+https://github.com/rsxdalv/extension_audiocraft@main\n",
    "!uv pip install --no-progress --system git+https://github.com/rsxdalv/extension_styletts2@main\n",
    "!uv pip install --no-progress --system git+https://github.com/rsxdalv/extension_vall_e_x@main\n",
    "!uv pip install --no-progress --system git+https://github.com/rsxdalv/extension_maha_tts@main\n",
    "!pip install --no-progress --system git+https://github.com/rsxdalv/extension_stable_audio@main\n",
    "# !uv pip install --no-progress --system hydra-core==1.3.2\n",
    "!uv pip install --no-progress --system nvidia-ml-py\n",
    "# !uv pip install --no-progress --system soundfile==0.12.1\n",
    "# Possibly unnecesary\n",
    "!uv pip install --no-progress --system huggingface_hub==0.31.2\n"
   ]
  },
  {
   "cell_type": "code",
   "execution_count": null,
   "id": "f9bc1c3b",
   "metadata": {},
   "outputs": [],
   "source": [
    "# Extension Manager\n",
    "!python tools/extension_manager.py --share"
   ]
  },
  {
   "cell_type": "code",
   "execution_count": null,
   "id": "r0FihjXLklZG",
   "metadata": {
    "colab": {
     "base_uri": "https://localhost:8080/"
    },
    "id": "r0FihjXLklZG",
    "outputId": "77b5030b-2d12-4c20-ab0d-970b53b9ac08"
   },
   "outputs": [],
   "source": [
    "# Start the App\n",
    "!python server.py --share\n",
    "# Note - Node.js/React UI works but isn't accesssible by default on Google Colab, only gradio is easy to open."
   ]
  },
  {
   "cell_type": "code",
   "execution_count": null,
   "id": "5be2efe7",
   "metadata": {},
   "outputs": [],
   "source": [
    "# Get latest Node.js\n",
    "# !wget https://nodejs.org/dist/v22.9.0/node-v22.9.0-linux-x64.tar.gz \n",
    "# !tar xfz node-v22.9.0-linux-x64.tar.gz \n",
    "# !cp -r node-v22.9.0-linux-x64/* /usr/local/\n",
    "\n",
    "# # Build the React UI\n",
    "# !cd react-ui && npm install && npm run build"
   ]
  },
  {
   "cell_type": "code",
   "execution_count": null,
   "id": "8da0b5aa",
   "metadata": {},
   "outputs": [],
   "source": [
    "# For future faster install\n",
    "# !pip install -r ./notebooks/frozen-requirements.txt --no-deps"
   ]
  }
 ],
 "metadata": {
  "colab": {
   "provenance": []
  },
  "kernelspec": {
   "display_name": "Python 3",
   "language": "python",
   "name": "python3"
  },
  "language_info": {
   "codemirror_mode": {
    "name": "ipython",
    "version": 3
   },
   "file_extension": ".py",
   "mimetype": "text/x-python",
   "name": "python",
   "nbconvert_exporter": "python",
   "pygments_lexer": "ipython3",
   "version": "3.10.11"
  }
 },
 "nbformat": 4,
 "nbformat_minor": 5
}
